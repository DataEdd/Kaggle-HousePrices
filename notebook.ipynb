{
 "cells": [
  {
   "cell_type": "markdown",
   "id": "d9731cce",
   "metadata": {},
   "source": [
    "# Nan Value Analysis"
   ]
  },
  {
   "cell_type": "code",
   "execution_count": 8,
   "id": "745d9d35",
   "metadata": {},
   "outputs": [],
   "source": [
    "import numpy as np\n",
    "import matplotlib.pyplot as plt\n",
    "import pandas as pd\n",
    "import seaborn as sns\n",
    "import statsmodels .api as sm\n",
    "from sklearn.preprocessing import StandardScaler\n",
    "import ISLP"
   ]
  },
  {
   "cell_type": "code",
   "execution_count": 9,
   "id": "86e85cdd",
   "metadata": {},
   "outputs": [
    {
     "name": "stdout",
     "output_type": "stream",
     "text": [
      "(1460, 81)\n"
     ]
    },
    {
     "data": {
      "text/html": [
       "<div>\n",
       "<style scoped>\n",
       "    .dataframe tbody tr th:only-of-type {\n",
       "        vertical-align: middle;\n",
       "    }\n",
       "\n",
       "    .dataframe tbody tr th {\n",
       "        vertical-align: top;\n",
       "    }\n",
       "\n",
       "    .dataframe thead th {\n",
       "        text-align: right;\n",
       "    }\n",
       "</style>\n",
       "<table border=\"1\" class=\"dataframe\">\n",
       "  <thead>\n",
       "    <tr style=\"text-align: right;\">\n",
       "      <th></th>\n",
       "      <th>MissingCount</th>\n",
       "      <th>MissingPct</th>\n",
       "    </tr>\n",
       "  </thead>\n",
       "  <tbody>\n",
       "    <tr>\n",
       "      <th>PoolQC</th>\n",
       "      <td>1453</td>\n",
       "      <td>99.520548</td>\n",
       "    </tr>\n",
       "    <tr>\n",
       "      <th>MiscFeature</th>\n",
       "      <td>1406</td>\n",
       "      <td>96.301370</td>\n",
       "    </tr>\n",
       "    <tr>\n",
       "      <th>Alley</th>\n",
       "      <td>1369</td>\n",
       "      <td>93.767123</td>\n",
       "    </tr>\n",
       "    <tr>\n",
       "      <th>Fence</th>\n",
       "      <td>1179</td>\n",
       "      <td>80.753425</td>\n",
       "    </tr>\n",
       "    <tr>\n",
       "      <th>MasVnrType</th>\n",
       "      <td>872</td>\n",
       "      <td>59.726027</td>\n",
       "    </tr>\n",
       "    <tr>\n",
       "      <th>FireplaceQu</th>\n",
       "      <td>690</td>\n",
       "      <td>47.260274</td>\n",
       "    </tr>\n",
       "    <tr>\n",
       "      <th>LotFrontage</th>\n",
       "      <td>259</td>\n",
       "      <td>17.739726</td>\n",
       "    </tr>\n",
       "    <tr>\n",
       "      <th>GarageType</th>\n",
       "      <td>81</td>\n",
       "      <td>5.547945</td>\n",
       "    </tr>\n",
       "    <tr>\n",
       "      <th>GarageYrBlt</th>\n",
       "      <td>81</td>\n",
       "      <td>5.547945</td>\n",
       "    </tr>\n",
       "    <tr>\n",
       "      <th>GarageFinish</th>\n",
       "      <td>81</td>\n",
       "      <td>5.547945</td>\n",
       "    </tr>\n",
       "  </tbody>\n",
       "</table>\n",
       "</div>"
      ],
      "text/plain": [
       "              MissingCount  MissingPct\n",
       "PoolQC                1453   99.520548\n",
       "MiscFeature           1406   96.301370\n",
       "Alley                 1369   93.767123\n",
       "Fence                 1179   80.753425\n",
       "MasVnrType             872   59.726027\n",
       "FireplaceQu            690   47.260274\n",
       "LotFrontage            259   17.739726\n",
       "GarageType              81    5.547945\n",
       "GarageYrBlt             81    5.547945\n",
       "GarageFinish            81    5.547945"
      ]
     },
     "execution_count": 9,
     "metadata": {},
     "output_type": "execute_result"
    }
   ],
   "source": [
    "test_data = pd.read_csv('data/test.csv')\n",
    "train_data = pd.read_csv('data/train.csv')\n",
    "test_df = pd.DataFrame(test_data)\n",
    "train_df = pd.DataFrame(train_data)\n",
    "#print(train_df.columns)\n",
    "print(train_df.shape)\n",
    "missing_counts = train_df.isna().sum()\n",
    "missing_pct = missing_counts / len(train_df) * 100\n",
    "missing_df = pd.DataFrame({\n",
    "    'MissingCount': missing_counts,\n",
    "    'MissingPct': missing_pct\n",
    "})\n",
    "missing_df = missing_df[missing_df['MissingCount'] > 0].sort_values('MissingPct', ascending=False)\n",
    "missing_df.head(10)"
   ]
  },
  {
   "cell_type": "markdown",
   "id": "b1570ef3",
   "metadata": {},
   "source": [
    "## Handling NaN Values in Pool-Related Features\n",
    "\n",
    "PoolQC and PoolArea are two features related to swimming pools in the dataset. The PoolArea feature indicates the area of the pool, while PoolQC provides a quality rating for the pool. However, both features are incredibly sparse: only 7 homes out of 1 460 have a pool.\n",
    "\n",
    "Steps taken to handle these features:\n",
    "\n",
    "- Created binary flag feature **HasPool** to indicate whether a house has a pool or not.  \n",
    "- Created an ordinal variable **PoolQC_ord** to represent the quality of the pool on a scale from 0 to 4 (NaN → 0).  \n",
    "- Created an interaction feature **PoolQualityArea** to capture the relationship between pool quality and area.  \n",
    "- Created a binary feature **PoolHighPriceOutlier** to identify the single pool home in the top 0.1 % of sale prices. **This house is a potential outlier and may need special handling in the analysis.**  \n",
    "- Ensured that the cross-validation folds do not end up with all 7 entries of **HasPool** in the same fold, which could lead to biased results.  \n",
    "- Used **LOOCV (Leave-One-Out Cross-Validation)**—with stratification on **HasPool**—to evaluate the model performance with and without the pool-related features.\n",
    "\n",
    "**Conclusion:**  \n",
    "- The only pool-derived feature that consistently improves upon the intercept-only model is the **PoolHighPriceOutlier × PoolArea** interaction; the outlier flag alone also yields a small gain.  \n",
    "- All other pool features—PoolQC, PoolArea, PoolQualityArea, HasPool, and the remaining interaction terms—degrade or fail to improve performance under LOOCV.  \n",
    "- Drop `PoolQC`, `PoolArea`, `PoolQualityArea`, `HasPool`, and the unused interactions from the modeling set. Retain only the `PoolHighPriceOutlier` and `PoolArea` feature for predictive modeling. \n"
   ]
  },
  {
   "cell_type": "code",
   "execution_count": 10,
   "id": "9e4932d8",
   "metadata": {},
   "outputs": [
    {
     "name": "stdout",
     "output_type": "stream",
     "text": [
      "                  Model  LOO Log RMSE\n",
      "         Pool + Outlier      0.406918\n",
      "   PoolHighPriceOutlier      0.407452\n",
      "        PoolQualityArea      0.407529\n",
      "               PoolArea      0.407534\n",
      "                HasPool      0.407596\n",
      "             PoolQC_ord      0.407658\n",
      "         Intercept only      0.407880\n",
      "         All basic pool      0.416191\n",
      "All pool + interactions           NaN\n"
     ]
    },
    {
     "name": "stderr",
     "output_type": "stream",
     "text": [
      "/var/folders/cq/bk6tnncn1mzgh8fcl04tt9vc0000gn/T/ipykernel_32556/171100361.py:47: RuntimeWarning: invalid value encountered in log\n",
      "  sq_errors.append((np.log(y_pred) - np.log(y[test_idx]))**2)\n",
      "/var/folders/cq/bk6tnncn1mzgh8fcl04tt9vc0000gn/T/ipykernel_32556/171100361.py:47: RuntimeWarning: invalid value encountered in log\n",
      "  sq_errors.append((np.log(y_pred) - np.log(y[test_idx]))**2)\n",
      "/var/folders/cq/bk6tnncn1mzgh8fcl04tt9vc0000gn/T/ipykernel_32556/171100361.py:47: RuntimeWarning: invalid value encountered in log\n",
      "  sq_errors.append((np.log(y_pred) - np.log(y[test_idx]))**2)\n",
      "/var/folders/cq/bk6tnncn1mzgh8fcl04tt9vc0000gn/T/ipykernel_32556/171100361.py:47: RuntimeWarning: invalid value encountered in log\n",
      "  sq_errors.append((np.log(y_pred) - np.log(y[test_idx]))**2)\n"
     ]
    }
   ],
   "source": [
    "import pandas as pd\n",
    "import numpy as np\n",
    "from sklearn.linear_model import LinearRegression\n",
    "from sklearn.model_selection import LeaveOneOut, cross_val_score\n",
    "\n",
    "df = train_df.copy()\n",
    "df['HasPool'] = (df['PoolArea'] > 0).astype(int)\n",
    "quality_map = {'Ex': 4, 'Gd': 3, 'TA': 2, 'Fa': 1}\n",
    "df['PoolQC_ord'] = df['PoolQC'].map(quality_map).fillna(0).astype(int)\n",
    "df['PoolArea_GrLivArea'] = df['PoolArea'] * df['GrLivArea']\n",
    "df['PoolArea_OverallQual'] = df['PoolArea'] * df['OverallQual']\n",
    "df['PoolQualityArea'] = df['PoolArea'] * df['PoolQC_ord']\n",
    "high_price_cut = df['SalePrice'].quantile(0.999)\n",
    "df['PoolHighPriceOutlier'] = ((df['HasPool'] == 1) & (df['SalePrice'] > high_price_cut)).astype(int)\n",
    "\n",
    "feature_sets = [\n",
    "    ('Intercept only', None),\n",
    "    ('PoolArea', ['PoolArea']),\n",
    "    ('HasPool', ['HasPool']),\n",
    "    ('PoolQC_ord', ['PoolQC_ord']),\n",
    "    ('PoolQualityArea', ['PoolQualityArea']),\n",
    "    ('PoolHighPriceOutlier', ['PoolHighPriceOutlier']),\n",
    "    ('All basic pool', ['PoolArea', 'HasPool', 'PoolQC_ord']),\n",
    "    ('Pool + Outlier', ['PoolArea', 'PoolHighPriceOutlier']),\n",
    "    ('All pool + interactions', [\n",
    "        'PoolArea', 'HasPool', 'PoolQC_ord',\n",
    "        'PoolArea_GrLivArea', 'PoolArea_OverallQual',\n",
    "        'PoolQualityArea', 'PoolHighPriceOutlier'\n",
    "    ])\n",
    "]\n",
    "\n",
    "loo = LeaveOneOut()\n",
    "y = df['SalePrice'].values\n",
    "results = []\n",
    "\n",
    "for name, cols in feature_sets:\n",
    "    if cols is None:\n",
    "        X = np.ones((len(df), 1))\n",
    "    else:\n",
    "        X = df[cols].values\n",
    "    sq_errors = []\n",
    "    for train_idx, test_idx in loo.split(X):\n",
    "        model = LinearRegression()\n",
    "        model.fit(X[train_idx], y[train_idx])\n",
    "        y_pred = model.predict(X[test_idx])\n",
    "        # Compute squared log-error\n",
    "        sq_errors.append((np.log(y_pred) - np.log(y[test_idx]))**2)\n",
    "    log_rmse = np.sqrt(np.mean(sq_errors))\n",
    "    results.append((name, log_rmse))\n",
    "\n",
    "res_df = pd.DataFrame(results, columns=['Model', 'LOO Log RMSE']).sort_values('LOO Log RMSE')\n",
    "print(res_df.to_string(index=False))\n"
   ]
  },
  {
   "cell_type": "code",
   "execution_count": 11,
   "id": "4c80357f",
   "metadata": {},
   "outputs": [
    {
     "data": {
      "text/plain": [
       "Index(['Id', 'MSSubClass', 'MSZoning', 'LotFrontage', 'LotArea', 'Street',\n",
       "       'Alley', 'LotShape', 'LandContour', 'Utilities', 'LotConfig',\n",
       "       'LandSlope', 'Neighborhood', 'Condition1', 'Condition2', 'BldgType',\n",
       "       'HouseStyle', 'OverallQual', 'OverallCond', 'YearBuilt', 'YearRemodAdd',\n",
       "       'RoofStyle', 'RoofMatl', 'Exterior1st', 'Exterior2nd', 'MasVnrType',\n",
       "       'MasVnrArea', 'ExterQual', 'ExterCond', 'Foundation', 'BsmtQual',\n",
       "       'BsmtCond', 'BsmtExposure', 'BsmtFinType1', 'BsmtFinSF1',\n",
       "       'BsmtFinType2', 'BsmtFinSF2', 'BsmtUnfSF', 'TotalBsmtSF', 'Heating',\n",
       "       'HeatingQC', 'CentralAir', 'Electrical', '1stFlrSF', '2ndFlrSF',\n",
       "       'LowQualFinSF', 'GrLivArea', 'BsmtFullBath', 'BsmtHalfBath', 'FullBath',\n",
       "       'HalfBath', 'BedroomAbvGr', 'KitchenAbvGr', 'KitchenQual',\n",
       "       'TotRmsAbvGrd', 'Functional', 'Fireplaces', 'FireplaceQu', 'GarageType',\n",
       "       'GarageYrBlt', 'GarageFinish', 'GarageCars', 'GarageArea', 'GarageQual',\n",
       "       'GarageCond', 'PavedDrive', 'WoodDeckSF', 'OpenPorchSF',\n",
       "       'EnclosedPorch', '3SsnPorch', 'ScreenPorch', 'Fence', 'MiscFeature',\n",
       "       'MiscVal', 'MoSold', 'YrSold', 'SaleType', 'SaleCondition', 'SalePrice',\n",
       "       'PoolOutlierArea'],\n",
       "      dtype='object')"
      ]
     },
     "execution_count": 11,
     "metadata": {},
     "output_type": "execute_result"
    }
   ],
   "source": [
    "df['PoolOutlierArea'] = df['PoolArea'] * df['PoolHighPriceOutlier']\n",
    "drop_cols = [\n",
    "    'HasPool',\n",
    "    'PoolArea',\n",
    "    'PoolQC_ord',\n",
    "    'PoolQualityArea',\n",
    "    'PoolArea_GrLivArea',\n",
    "    'PoolArea_OverallQual',\n",
    "    'PoolHighPriceOutlier',\n",
    "    'PoolQC'\n",
    "]\n",
    "df.drop(columns=drop_cols, errors='ignore', inplace=True)\n",
    "\n",
    "df.columns"
   ]
  },
  {
   "cell_type": "markdown",
   "id": "bba2bb10",
   "metadata": {},
   "source": [
    "## Handling NaN Values in MiscFeature\n",
    "\n",
    "MiscFeature records rare amenities like elevator, second garage, tennis court or shed, but most homes (around 96%) have no entry.\n",
    "\n",
    "Steps taken:\n",
    "\n",
    "- Fill missing values with “None” so every home falls into one category.\n",
    "- Create a binary flag HasMisc to indicate whether any miscellaneous feature exists.\n",
    "- Create a count variable MiscCount to record how many non-None misc features each home has.\n",
    "- Create an interaction term HasMisc × MiscCount to test combined effect.\n",
    "- Try one-hot encoding each category, but with so few examples per level it led to unstable models.\n",
    "- Use Leave-One-Out CV with log RMSE (root-mean-square error of log-predicted vs log-actual sale price) as the evaluation metric to compare:\n",
    "  - intercept-only  \n",
    "  - HasMisc alone  \n",
    "  - MiscCount alone  \n",
    "  - HasMisc + MiscCount  \n",
    "  - HasMisc × MiscCount  \n",
    "  - one-hot variants  \n",
    "  - full combined model  \n",
    "\n",
    "Conclusion:\n",
    "- HasMisc, MiscCount, and their interaction all achieve the same best log RMSE. We choose to keep HasMisc and MiscCount together because they capture both presence and quantity of features without redundant interaction and are simple to interpret. \n",
    "- Replace the original MiscFeature column with HasMisc and MiscCount in the modeling pipeline.\n"
   ]
  },
  {
   "cell_type": "code",
   "execution_count": 12,
   "id": "233d42d0",
   "metadata": {},
   "outputs": [
    {
     "name": "stdout",
     "output_type": "stream",
     "text": [
      "                    Model  LOO Log RMSE\n",
      "                  HasMisc      0.406822\n",
      "                MiscCount      0.406822\n",
      "      HasMisc + MiscCount      0.406822\n",
      "      HasMisc × MiscCount      0.406822\n",
      "            OneHotDummies      0.407143\n",
      "  HasMisc + OneHotDummies      0.407281\n",
      "MiscCount + OneHotDummies      0.407281\n",
      "             All combined      0.407321\n",
      "           Intercept only      0.407880\n"
     ]
    }
   ],
   "source": [
    "misc = df['MiscFeature'].fillna('None')\n",
    "df['HasMisc'] = (misc != 'None').astype(int)\n",
    "\n",
    "dummies = pd.get_dummies(misc, prefix='Misc')\n",
    "dummies = dummies.drop(columns=[col for col in dummies.columns if col.endswith('_None')], errors='ignore')\n",
    "\n",
    "df['MiscCount'] = dummies.sum(axis=1)\n",
    "df['HasMisc_MiscCount'] = df['HasMisc'] * df['MiscCount']\n",
    "\n",
    "feature_sets = [\n",
    "    ('Intercept only', None),\n",
    "    ('HasMisc', ['HasMisc']),\n",
    "    ('MiscCount', ['MiscCount']),\n",
    "    ('OneHotDummies', dummies),\n",
    "    ('HasMisc + OneHotDummies', pd.concat([df[['HasMisc']], dummies], axis=1)),\n",
    "    ('MiscCount + OneHotDummies', pd.concat([df[['MiscCount']], dummies], axis=1)),\n",
    "    ('HasMisc + MiscCount', ['HasMisc', 'MiscCount']),\n",
    "    ('HasMisc × MiscCount', ['HasMisc_MiscCount']),\n",
    "    ('All combined', pd.concat([df[['HasMisc','MiscCount','HasMisc_MiscCount']], dummies], axis=1))\n",
    "]\n",
    "\n",
    "loo = LeaveOneOut()\n",
    "y = df['SalePrice'].values\n",
    "results = []\n",
    "\n",
    "for name, feat in feature_sets:\n",
    "    # Build X array\n",
    "    if feat is None:\n",
    "        X = np.ones((len(df), 1))\n",
    "    elif isinstance(feat, pd.DataFrame):\n",
    "        X = feat.values\n",
    "    else:\n",
    "        X = df[feat].values\n",
    "    # LOOCV\n",
    "    errors = []\n",
    "    for train_idx, test_idx in loo.split(X):\n",
    "        model = LinearRegression()\n",
    "        model.fit(X[train_idx], y[train_idx])\n",
    "        y_pred = model.predict(X[test_idx])\n",
    "        # log RMSE\n",
    "        errors.append((np.log(y_pred) - np.log(y[test_idx]))**2)\n",
    "    rmse = np.sqrt(np.mean(errors))\n",
    "    results.append((name, rmse))\n",
    "\n",
    "res_df = pd.DataFrame(results, columns=['Model', 'LOO Log RMSE']).sort_values('LOO Log RMSE')\n",
    "print(res_df.to_string(index=False))\n",
    "\n",
    "df = df.drop(columns=['MiscFeature', 'HasMisc_MiscCount'], errors='ignore')\n"
   ]
  },
  {
   "cell_type": "code",
   "execution_count": 13,
   "id": "bc0f74d9",
   "metadata": {},
   "outputs": [
    {
     "data": {
      "text/plain": [
       "Index(['Id', 'MSSubClass', 'MSZoning', 'LotFrontage', 'LotArea', 'Street',\n",
       "       'Alley', 'LotShape', 'LandContour', 'Utilities', 'LotConfig',\n",
       "       'LandSlope', 'Neighborhood', 'Condition1', 'Condition2', 'BldgType',\n",
       "       'HouseStyle', 'OverallQual', 'OverallCond', 'YearBuilt', 'YearRemodAdd',\n",
       "       'RoofStyle', 'RoofMatl', 'Exterior1st', 'Exterior2nd', 'MasVnrType',\n",
       "       'MasVnrArea', 'ExterQual', 'ExterCond', 'Foundation', 'BsmtQual',\n",
       "       'BsmtCond', 'BsmtExposure', 'BsmtFinType1', 'BsmtFinSF1',\n",
       "       'BsmtFinType2', 'BsmtFinSF2', 'BsmtUnfSF', 'TotalBsmtSF', 'Heating',\n",
       "       'HeatingQC', 'CentralAir', 'Electrical', '1stFlrSF', '2ndFlrSF',\n",
       "       'LowQualFinSF', 'GrLivArea', 'BsmtFullBath', 'BsmtHalfBath', 'FullBath',\n",
       "       'HalfBath', 'BedroomAbvGr', 'KitchenAbvGr', 'KitchenQual',\n",
       "       'TotRmsAbvGrd', 'Functional', 'Fireplaces', 'FireplaceQu', 'GarageType',\n",
       "       'GarageYrBlt', 'GarageFinish', 'GarageCars', 'GarageArea', 'GarageQual',\n",
       "       'GarageCond', 'PavedDrive', 'WoodDeckSF', 'OpenPorchSF',\n",
       "       'EnclosedPorch', '3SsnPorch', 'ScreenPorch', 'Fence', 'MiscVal',\n",
       "       'MoSold', 'YrSold', 'SaleType', 'SaleCondition', 'SalePrice',\n",
       "       'PoolOutlierArea', 'HasMisc', 'MiscCount'],\n",
       "      dtype='object')"
      ]
     },
     "execution_count": 13,
     "metadata": {},
     "output_type": "execute_result"
    }
   ],
   "source": [
    "df.columns"
   ]
  },
  {
   "cell_type": "code",
   "execution_count": 14,
   "id": "3a50d51a",
   "metadata": {},
   "outputs": [
    {
     "name": "stdout",
     "output_type": "stream",
     "text": [
      "Total rows: 1460\n",
      "Rows with at least one NaN: 1460 (100.00%)\n",
      "\n",
      "Missing Value Summary:\n",
      "              MissingCount  MissingPct\n",
      "Alley                 1369   93.767123\n",
      "Fence                 1179   80.753425\n",
      "MasVnrType             872   59.726027\n",
      "FireplaceQu            690   47.260274\n",
      "LotFrontage            259   17.739726\n",
      "GarageType              81    5.547945\n",
      "GarageYrBlt             81    5.547945\n",
      "GarageFinish            81    5.547945\n",
      "GarageQual              81    5.547945\n",
      "GarageCond              81    5.547945\n",
      "BsmtExposure            38    2.602740\n",
      "BsmtFinType2            38    2.602740\n",
      "BsmtCond                37    2.534247\n",
      "BsmtFinType1            37    2.534247\n",
      "BsmtQual                37    2.534247\n",
      "MasVnrArea               8    0.547945\n",
      "Electrical               1    0.068493\n"
     ]
    }
   ],
   "source": [
    "total_rows = len(df)\n",
    "rows_with_nan = df.isna().any(axis=1).sum()\n",
    "pct_with_nan = rows_with_nan / total_rows * 100\n",
    "\n",
    "print(f\"Total rows: {total_rows}\")\n",
    "print(f\"Rows with at least one NaN: {rows_with_nan} ({pct_with_nan:.2f}%)\\n\")\n",
    "\n",
    "missing_counts = df.isna().sum()\n",
    "missing_pct = missing_counts / total_rows * 100\n",
    "missing_df = pd.DataFrame({\n",
    "    'MissingCount': missing_counts,\n",
    "    'MissingPct': missing_pct\n",
    "})\n",
    "missing_df = missing_df[missing_df['MissingCount'] > 0].sort_values('MissingPct', ascending=False)\n",
    "\n",
    "print(\"Missing Value Summary:\")\n",
    "print(missing_df)\n"
   ]
  },
  {
   "cell_type": "code",
   "execution_count": 15,
   "id": "c6f9bc7d",
   "metadata": {},
   "outputs": [
    {
     "data": {
      "text/plain": [
       "Alley\n",
       "NaN     1369\n",
       "Grvl      50\n",
       "Pave      41\n",
       "Name: count, dtype: int64"
      ]
     },
     "execution_count": 15,
     "metadata": {},
     "output_type": "execute_result"
    }
   ],
   "source": [
    "df[\"Alley\"].value_counts(dropna=False)"
   ]
  },
  {
   "cell_type": "code",
   "execution_count": 16,
   "id": "f8a4e825",
   "metadata": {},
   "outputs": [
    {
     "data": {
      "image/png": "[encoded data removed]",
      "text/plain": [
       "<Figure size 640x480 with 1 Axes>"
      ]
     },
     "metadata": {},
     "output_type": "display_data"
    },
    {
     "data": {
      "image/png": "[encoded data removed]",
      "text/plain": [
       "<Figure size 640x480 with 1 Axes>"
      ]
     },
     "metadata": {},
     "output_type": "display_data"
    },
    {
     "data": {
      "image/png": "[encoded data removed]",
      "text/plain": [
       "<Figure size 640x480 with 1 Axes>"
      ]
     },
     "metadata": {},
     "output_type": "display_data"
    }
   ],
   "source": [
    "df['Alley_filled'] = df['Alley'].fillna('None')\n",
    "cats = ['None', 'Grvl', 'Pave']\n",
    "\n",
    "# 1. Boxplot: SalePrice by Alley type\n",
    "price_data = [df.loc[df['Alley_filled'] == c, 'SalePrice'] for c in cats]\n",
    "plt.figure()\n",
    "plt.boxplot(price_data)\n",
    "plt.xticks([1, 2, 3], cats)\n",
    "plt.title('SalePrice by Alley Type')\n",
    "plt.ylabel('SalePrice')\n",
    "plt.show()\n",
    "\n",
    "# 2. Boxplot: LotFrontage by Alley type\n",
    "front_data = [df.loc[df['Alley_filled'] == c, 'LotFrontage'].dropna() for c in cats]\n",
    "plt.figure()\n",
    "plt.boxplot(front_data)\n",
    "plt.xticks([1, 2, 3], cats)\n",
    "plt.title('LotFrontage by Alley Type')\n",
    "plt.ylabel('LotFrontage')\n",
    "plt.show()\n",
    "\n",
    "# 3. Bar chart: Median SalePrice by Alley type\n",
    "meds = df.groupby('Alley_filled')['SalePrice'].median().reindex(cats)\n",
    "plt.figure()\n",
    "plt.bar(range(len(meds)), meds)\n",
    "plt.xticks(range(len(meds)), cats)\n",
    "plt.title('Median SalePrice by Alley Type')\n",
    "plt.ylabel('Median SalePrice')\n",
    "plt.show()\n"
   ]
  },
  {
   "cell_type": "code",
   "execution_count": 17,
   "id": "945a0fbb",
   "metadata": {},
   "outputs": [
    {
     "name": "stdout",
     "output_type": "stream",
     "text": [
      "                     SalePrice  HasAlley  LotFrontage  Alley_x_LotFrontage\n",
      "SalePrice             1.000000 -0.123611     0.351799            -0.118809\n",
      "HasAlley             -0.123611  1.000000    -0.173249             0.909607\n",
      "LotFrontage           0.351799 -0.173249     1.000000            -0.085820\n",
      "Alley_x_LotFrontage  -0.118809  0.909607    -0.085820             1.000000\n"
     ]
    },
    {
     "data": {
      "image/png": "[encoded data removed]",
      "text/plain": [
       "<Figure size 640x480 with 2 Axes>"
      ]
     },
     "metadata": {},
     "output_type": "display_data"
    }
   ],
   "source": [
    "alley_map = {'None': 0, 'Grvl': 1, 'Pave': 2}\n",
    "df['Alley_ord'] = df['Alley_filled'].map(alley_map).astype(int)\n",
    "df['HasAlley'] = (df['Alley_filled'] != 'None').astype(int)\n",
    "df['Alley_x_LotFrontage'] = df['HasAlley'] * df['LotFrontage'].fillna(0)\n",
    "\n",
    "features = ['SalePrice', 'HasAlley', 'LotFrontage', 'Alley_x_LotFrontage']\n",
    "corr_matrix = df[features].corr()\n",
    "\n",
    "print(corr_matrix)\n",
    "\n",
    "# 2. Plot heatmap of correlations\n",
    "plt.figure()\n",
    "plt.imshow(corr_matrix)\n",
    "plt.colorbar()\n",
    "plt.xticks(range(len(features)), features, rotation=45)\n",
    "plt.yticks(range(len(features)), features)\n",
    "plt.title('Correlation Matrix')\n",
    "plt.tight_layout()\n",
    "plt.show()"
   ]
  },
  {
   "cell_type": "code",
   "execution_count": 18,
   "id": "48406fe8",
   "metadata": {},
   "outputs": [
    {
     "name": "stdout",
     "output_type": "stream",
     "text": [
      "                            OLS Regression Results                            \n",
      "==============================================================================\n",
      "Dep. Variable:              SalePrice   R-squared:                       0.060\n",
      "Model:                            OLS   Adj. R-squared:                  0.058\n",
      "Method:                 Least Squares   F-statistic:                     30.76\n",
      "Date:                Thu, 29 May 2025   Prob (F-statistic):           2.80e-19\n",
      "Time:                        14:59:18   Log-Likelihood:                -18499.\n",
      "No. Observations:                1460   AIC:                         3.701e+04\n",
      "Df Residuals:                    1456   BIC:                         3.703e+04\n",
      "Df Model:                           3                                         \n",
      "Covariance Type:            nonrobust                                         \n",
      "=======================================================================================\n",
      "                          coef    std err          t      P>|t|      [0.025      0.975]\n",
      "---------------------------------------------------------------------------------------\n",
      "const                1.551e+05   4012.521     38.660      0.000    1.47e+05    1.63e+05\n",
      "HasAlley            -1248.4179   2.04e+04     -0.061      0.951   -4.12e+04    3.87e+04\n",
      "LotFrontage           488.3782     59.111      8.262      0.000     372.425     604.331\n",
      "Alley_x_LotFrontage  -700.9375    357.165     -1.963      0.050   -1401.551      -0.324\n",
      "==============================================================================\n",
      "Omnibus:                      543.927   Durbin-Watson:                   1.966\n",
      "Prob(Omnibus):                  0.000   Jarque-Bera (JB):             2635.245\n",
      "Skew:                           1.697   Prob(JB):                         0.00\n",
      "Kurtosis:                       8.639   Cond. No.                         680.\n",
      "==============================================================================\n",
      "\n",
      "Notes:\n",
      "[1] Standard Errors assume that the covariance matrix of the errors is correctly specified.\n"
     ]
    }
   ],
   "source": [
    "X = df[['HasAlley','LotFrontage','Alley_x_LotFrontage']].fillna(0)\n",
    "X = sm.add_constant(X)\n",
    "y = df['SalePrice']\n",
    "res = sm.OLS(y, X).fit()\n",
    "print(res.summary())"
   ]
  },
  {
   "cell_type": "code",
   "execution_count": 19,
   "id": "d51d9f13",
   "metadata": {},
   "outputs": [
    {
     "data": {
      "text/plain": [
       "Alley_filled\n",
       "None    1369\n",
       "Grvl      50\n",
       "Pave      41\n",
       "Name: count, dtype: int64"
      ]
     },
     "execution_count": 19,
     "metadata": {},
     "output_type": "execute_result"
    }
   ],
   "source": [
    "df['Alley_filled'].value_counts(dropna=False)"
   ]
  },
  {
   "cell_type": "code",
   "execution_count": 20,
   "id": "399727a7",
   "metadata": {},
   "outputs": [
    {
     "data": {
      "text/plain": [
       "Alley_ord\n",
       "0    1369\n",
       "1      50\n",
       "2      41\n",
       "Name: count, dtype: int64"
      ]
     },
     "execution_count": 20,
     "metadata": {},
     "output_type": "execute_result"
    }
   ],
   "source": [
    "df['Alley_ord'].value_counts(dropna=False)"
   ]
  },
  {
   "cell_type": "code",
   "execution_count": 21,
   "id": "168373c6",
   "metadata": {},
   "outputs": [
    {
     "data": {
      "text/plain": [
       "HasAlley\n",
       "0    1369\n",
       "1      91\n",
       "Name: count, dtype: int64"
      ]
     },
     "execution_count": 21,
     "metadata": {},
     "output_type": "execute_result"
    }
   ],
   "source": [
    "df['HasAlley'].value_counts(dropna=False)"
   ]
  },
  {
   "cell_type": "code",
   "execution_count": null,
   "id": "af98a138",
   "metadata": {},
   "outputs": [
    {
     "data": {
      "text/html": [
       "<div>\n",
       "<style scoped>\n",
       "    .dataframe tbody tr th:only-of-type {\n",
       "        vertical-align: middle;\n",
       "    }\n",
       "\n",
       "    .dataframe tbody tr th {\n",
       "        vertical-align: top;\n",
       "    }\n",
       "\n",
       "    .dataframe thead th {\n",
       "        text-align: right;\n",
       "    }\n",
       "</style>\n",
       "<table border=\"1\" class=\"dataframe\">\n",
       "  <thead>\n",
       "    <tr style=\"text-align: right;\">\n",
       "      <th></th>\n",
       "      <th>Id</th>\n",
       "      <th>MSSubClass</th>\n",
       "      <th>MSZoning</th>\n",
       "      <th>LotFrontage</th>\n",
       "      <th>LotArea</th>\n",
       "      <th>Street</th>\n",
       "      <th>Alley</th>\n",
       "      <th>LotShape</th>\n",
       "      <th>LandContour</th>\n",
       "      <th>Utilities</th>\n",
       "      <th>...</th>\n",
       "      <th>SaleType</th>\n",
       "      <th>SaleCondition</th>\n",
       "      <th>SalePrice</th>\n",
       "      <th>PoolOutlierArea</th>\n",
       "      <th>HasMisc</th>\n",
       "      <th>MiscCount</th>\n",
       "      <th>Alley_filled</th>\n",
       "      <th>Alley_ord</th>\n",
       "      <th>HasAlley</th>\n",
       "      <th>Alley_x_LotFrontage</th>\n",
       "    </tr>\n",
       "  </thead>\n",
       "  <tbody>\n",
       "    <tr>\n",
       "      <th>0</th>\n",
       "      <td>1</td>\n",
       "      <td>60</td>\n",
       "      <td>RL</td>\n",
       "      <td>65.0</td>\n",
       "      <td>8450</td>\n",
       "      <td>Pave</td>\n",
       "      <td>NaN</td>\n",
       "      <td>Reg</td>\n",
       "      <td>Lvl</td>\n",
       "      <td>AllPub</td>\n",
       "      <td>...</td>\n",
       "      <td>WD</td>\n",
       "      <td>Normal</td>\n",
       "      <td>208500</td>\n",
       "      <td>0</td>\n",
       "      <td>0</td>\n",
       "      <td>0</td>\n",
       "      <td>None</td>\n",
       "      <td>0</td>\n",
       "      <td>0</td>\n",
       "      <td>0.0</td>\n",
       "    </tr>\n",
       "    <tr>\n",
       "      <th>1</th>\n",
       "      <td>2</td>\n",
       "      <td>20</td>\n",
       "      <td>RL</td>\n",
       "      <td>80.0</td>\n",
       "      <td>9600</td>\n",
       "      <td>Pave</td>\n",
       "      <td>NaN</td>\n",
       "      <td>Reg</td>\n",
       "      <td>Lvl</td>\n",
       "      <td>AllPub</td>\n",
       "      <td>...</td>\n",
       "      <td>WD</td>\n",
       "      <td>Normal</td>\n",
       "      <td>181500</td>\n",
       "      <td>0</td>\n",
       "      <td>0</td>\n",
       "      <td>0</td>\n",
       "      <td>None</td>\n",
       "      <td>0</td>\n",
       "      <td>0</td>\n",
       "      <td>0.0</td>\n",
       "    </tr>\n",
       "    <tr>\n",
       "      <th>2</th>\n",
       "      <td>3</td>\n",
       "      <td>60</td>\n",
       "      <td>RL</td>\n",
       "      <td>68.0</td>\n",
       "      <td>11250</td>\n",
       "      <td>Pave</td>\n",
       "      <td>NaN</td>\n",
       "      <td>IR1</td>\n",
       "      <td>Lvl</td>\n",
       "      <td>AllPub</td>\n",
       "      <td>...</td>\n",
       "      <td>WD</td>\n",
       "      <td>Normal</td>\n",
       "      <td>223500</td>\n",
       "      <td>0</td>\n",
       "      <td>0</td>\n",
       "      <td>0</td>\n",
       "      <td>None</td>\n",
       "      <td>0</td>\n",
       "      <td>0</td>\n",
       "      <td>0.0</td>\n",
       "    </tr>\n",
       "    <tr>\n",
       "      <th>3</th>\n",
       "      <td>4</td>\n",
       "      <td>70</td>\n",
       "      <td>RL</td>\n",
       "      <td>60.0</td>\n",
       "      <td>9550</td>\n",
       "      <td>Pave</td>\n",
       "      <td>NaN</td>\n",
       "      <td>IR1</td>\n",
       "      <td>Lvl</td>\n",
       "      <td>AllPub</td>\n",
       "      <td>...</td>\n",
       "      <td>WD</td>\n",
       "      <td>Abnorml</td>\n",
       "      <td>140000</td>\n",
       "      <td>0</td>\n",
       "      <td>0</td>\n",
       "      <td>0</td>\n",
       "      <td>None</td>\n",
       "      <td>0</td>\n",
       "      <td>0</td>\n",
       "      <td>0.0</td>\n",
       "    </tr>\n",
       "    <tr>\n",
       "      <th>4</th>\n",
       "      <td>5</td>\n",
       "      <td>60</td>\n",
       "      <td>RL</td>\n",
       "      <td>84.0</td>\n",
       "      <td>14260</td>\n",
       "      <td>Pave</td>\n",
       "      <td>NaN</td>\n",
       "      <td>IR1</td>\n",
       "      <td>Lvl</td>\n",
       "      <td>AllPub</td>\n",
       "      <td>...</td>\n",
       "      <td>WD</td>\n",
       "      <td>Normal</td>\n",
       "      <td>250000</td>\n",
       "      <td>0</td>\n",
       "      <td>0</td>\n",
       "      <td>0</td>\n",
       "      <td>None</td>\n",
       "      <td>0</td>\n",
       "      <td>0</td>\n",
       "      <td>0.0</td>\n",
       "    </tr>\n",
       "  </tbody>\n",
       "</table>\n",
       "<p>5 rows × 85 columns</p>\n",
       "</div>"
      ],
      "text/plain": [
       "   Id  MSSubClass MSZoning  LotFrontage  LotArea Street Alley LotShape  \\\n",
       "0   1          60       RL         65.0     8450   Pave   NaN      Reg   \n",
       "1   2          20       RL         80.0     9600   Pave   NaN      Reg   \n",
       "2   3          60       RL         68.0    11250   Pave   NaN      IR1   \n",
       "3   4          70       RL         60.0     9550   Pave   NaN      IR1   \n",
       "4   5          60       RL         84.0    14260   Pave   NaN      IR1   \n",
       "\n",
       "  LandContour Utilities  ... SaleType SaleCondition SalePrice PoolOutlierArea  \\\n",
       "0         Lvl    AllPub  ...       WD        Normal    208500               0   \n",
       "1         Lvl    AllPub  ...       WD        Normal    181500               0   \n",
       "2         Lvl    AllPub  ...       WD        Normal    223500               0   \n",
       "3         Lvl    AllPub  ...       WD       Abnorml    140000               0   \n",
       "4         Lvl    AllPub  ...       WD        Normal    250000               0   \n",
       "\n",
       "  HasMisc MiscCount Alley_filled  Alley_ord  HasAlley  Alley_x_LotFrontage  \n",
       "0       0         0         None          0         0                  0.0  \n",
       "1       0         0         None          0         0                  0.0  \n",
       "2       0         0         None          0         0                  0.0  \n",
       "3       0         0         None          0         0                  0.0  \n",
       "4       0         0         None          0         0                  0.0  \n",
       "\n",
       "[5 rows x 85 columns]"
      ]
     },
     "execution_count": 22,
     "metadata": {},
     "output_type": "execute_result"
    }
   ],
   "source": []
  },
  {
   "cell_type": "markdown",
   "id": "3ad60fe3",
   "metadata": {},
   "source": []
  }
 ],
 "metadata": {
  "kernelspec": {
   "display_name": "Python (ISLP)",
   "language": "python",
   "name": "islp"
  },
  "language_info": {
   "codemirror_mode": {
    "name": "ipython",
    "version": 3
   },
   "file_extension": ".py",
   "mimetype": "text/x-python",
   "name": "python",
   "nbconvert_exporter": "python",
   "pygments_lexer": "ipython3",
   "version": "3.13.3"
  }
 },
 "nbformat": 4,
 "nbformat_minor": 5
}
